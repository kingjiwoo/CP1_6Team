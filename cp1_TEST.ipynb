{
  "nbformat": 4,
  "nbformat_minor": 0,
  "metadata": {
    "colab": {
      "name": "cp1_TEST.ipynb",
      "provenance": []
    },
    "kernelspec": {
      "name": "python3",
      "display_name": "Python 3"
    },
    "language_info": {
      "name": "python"
    }
  },
  "cells": [
    {
      "cell_type": "code",
      "execution_count": null,
      "metadata": {
        "id": "wmhPi9NSsdd4"
      },
      "outputs": [],
      "source": [
        "import cv2\n",
        "\n",
        "import glob\n",
        " \n",
        "img_array = []\n",
        "for filename in glob.glob('C:\\\\Users\\\\mcw\\\\Desktop\\\\CP1\\\\data\\\\K-pop 안무 영상\\\\Training\\\\[원천]쏘리쏘리 (슈퍼주니어)\\\\074_H00_001_F\\\\*.jpg'):\n",
        "    img = cv2.imread(filename)\n",
        "    height, width, layers = img.shape\n",
        "    size = (width, height)\n",
        "    img_array.append(img)\n",
        "img_array \n",
        " \n",
        "out = cv2.VideoWriter('쏘리쏘리 (슈퍼주니어) 영상.avi',cv2.VideoWriter_fourcc(*'MJPG'), 15, size)\n",
        " \n",
        "for i in range(len(img_array)):\n",
        "    out.write(img_array[i])\n",
        "out.release()"
      ]
    }
  ]
}